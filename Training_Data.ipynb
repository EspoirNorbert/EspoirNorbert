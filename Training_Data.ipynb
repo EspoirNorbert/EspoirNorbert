{
  "nbformat": 4,
  "nbformat_minor": 0,
  "metadata": {
    "colab": {
      "provenance": [],
      "authorship_tag": "ABX9TyODlPgMTigFHlPTGLR1332g",
      "include_colab_link": true
    },
    "kernelspec": {
      "name": "python3",
      "display_name": "Python 3"
    },
    "language_info": {
      "name": "python"
    }
  },
  "cells": [
    {
      "cell_type": "markdown",
      "metadata": {
        "id": "view-in-github",
        "colab_type": "text"
      },
      "source": [
        "<a href=\"https://colab.research.google.com/github/EspoirNorbert/EspoirNorbert/blob/main/Training_Data.ipynb\" target=\"_parent\"><img src=\"https://colab.research.google.com/assets/colab-badge.svg\" alt=\"Open In Colab\"/></a>"
      ]
    },
    {
      "cell_type": "code",
      "execution_count": 1,
      "metadata": {
        "id": "xHbCLTTx-bmV"
      },
      "outputs": [],
      "source": [
        "!mkdir datasets"
      ]
    },
    {
      "cell_type": "markdown",
      "source": [
        "## Importons les librairies de dataScience\n"
      ],
      "metadata": {
        "id": "sxu6sich_r7y"
      }
    },
    {
      "cell_type": "code",
      "source": [
        "import pandas as pd\n",
        "import numpy as np\n",
        "import matplotlib.pyplot as plt\n",
        "import seaborn as sns"
      ],
      "metadata": {
        "id": "s9rBh7AH_7Pl"
      },
      "execution_count": 60,
      "outputs": []
    },
    {
      "cell_type": "code",
      "source": [
        "%matplotlib inline"
      ],
      "metadata": {
        "id": "axzJiLmtTVqP"
      },
      "execution_count": 61,
      "outputs": []
    },
    {
      "cell_type": "markdown",
      "source": [
        "Indiquer le jeux donnée"
      ],
      "metadata": {
        "id": "9DcdChOJAX48"
      }
    },
    {
      "cell_type": "code",
      "source": [
        "data = 'datasets/train.csv'"
      ],
      "metadata": {
        "id": "Xt-vty4gAbeP"
      },
      "execution_count": 3,
      "outputs": []
    },
    {
      "cell_type": "markdown",
      "source": [
        "Importer les données"
      ],
      "metadata": {
        "id": "qtWSG4hlAq5Y"
      }
    },
    {
      "cell_type": "code",
      "source": [
        "forecast_df = pd.read_csv(data)"
      ],
      "metadata": {
        "id": "qEql0IGNAtUS"
      },
      "execution_count": 26,
      "outputs": []
    },
    {
      "cell_type": "markdown",
      "source": [
        "Afficher la variable forecast qui contient le jeux de données"
      ],
      "metadata": {
        "id": "abIdPzS5A6x4"
      }
    },
    {
      "cell_type": "code",
      "source": [
        "print(forecast_df)"
      ],
      "metadata": {
        "colab": {
          "base_uri": "https://localhost:8080/"
        },
        "id": "L07F3kC6A-nk",
        "outputId": "6ecf762b-89d4-44b6-8b9c-8f8257dde582"
      },
      "execution_count": 27,
      "outputs": [
        {
          "output_type": "stream",
          "name": "stdout",
          "text": [
            "                     ID             Datetime  Sensor1_PM2.5  Sensor2_PM2.5  \\\n",
            "0       ID_QF0ZTQJ2SF5Q  2021-11-03 04:06:31          52.58          49.52   \n",
            "1       ID_4GTK689CNX5S  2021-11-08 18:43:23          35.25          33.40   \n",
            "2       ID_DL7VVKW9U7XQ  2021-11-07 09:50:33          19.18          23.50   \n",
            "3       ID_6XQOMBXM2DG3  2022-01-01 18:55:15          19.40          15.48   \n",
            "4       ID_UQZW9ISJY9QE  2021-11-05 22:23:48          38.30          34.77   \n",
            "...                 ...                  ...            ...            ...   \n",
            "297172  ID_AQFTZIKVX2QL  2021-11-19 12:32:00          36.40          37.77   \n",
            "297173  ID_2X0AJPWOMJNA  2021-11-22 01:22:54          50.12          40.63   \n",
            "297174  ID_0OAQMV7USTI4  2021-11-05 01:27:31          53.68          45.23   \n",
            "297175  ID_Y8FDAO06VXGJ  2021-11-23 22:09:30          96.45         114.67   \n",
            "297176  ID_3XEXH72VWK4J  2021-11-23 06:33:04          44.27          36.77   \n",
            "\n",
            "        Temperature  Relative_Humidity  Offset_fault  \n",
            "0              17.4               96.0             0  \n",
            "1              25.0               75.0             0  \n",
            "2              24.9               75.0             0  \n",
            "3              24.9               70.0             0  \n",
            "4              20.9               89.0             0  \n",
            "...             ...                ...           ...  \n",
            "297172         28.6               62.0             0  \n",
            "297173         21.6               86.0             1  \n",
            "297174         20.2               94.0             1  \n",
            "297175         20.6               93.0             0  \n",
            "297176         17.3               95.0             1  \n",
            "\n",
            "[297177 rows x 7 columns]\n"
          ]
        }
      ]
    },
    {
      "cell_type": "markdown",
      "source": [
        "Afficher le type de données du jeux de donnée . Ici il s'agit du type DataFrame"
      ],
      "metadata": {
        "id": "F4MRsDeTBMci"
      }
    },
    {
      "cell_type": "code",
      "source": [
        "type(forecast_df)"
      ],
      "metadata": {
        "colab": {
          "base_uri": "https://localhost:8080/"
        },
        "id": "Z055nKKMC7rO",
        "outputId": "0ea6614b-3834-4af9-d37e-f5b5c5021bd6"
      },
      "execution_count": 28,
      "outputs": [
        {
          "output_type": "execute_result",
          "data": {
            "text/plain": [
              "pandas.core.frame.DataFrame"
            ]
          },
          "metadata": {},
          "execution_count": 28
        }
      ]
    },
    {
      "cell_type": "markdown",
      "source": [
        "Afficher les premiers lignes du dataframe"
      ],
      "metadata": {
        "id": "ghRteY4ODDQd"
      }
    },
    {
      "cell_type": "code",
      "source": [
        "forecast_df.head()"
      ],
      "metadata": {
        "colab": {
          "base_uri": "https://localhost:8080/",
          "height": 337
        },
        "id": "PCZQA06TDiG5",
        "outputId": "82711efb-e813-40c0-e6c3-e16688e8ce0b"
      },
      "execution_count": 29,
      "outputs": [
        {
          "output_type": "execute_result",
          "data": {
            "text/plain": [
              "                ID             Datetime  Sensor1_PM2.5  Sensor2_PM2.5  \\\n",
              "0  ID_QF0ZTQJ2SF5Q  2021-11-03 04:06:31          52.58          49.52   \n",
              "1  ID_4GTK689CNX5S  2021-11-08 18:43:23          35.25          33.40   \n",
              "2  ID_DL7VVKW9U7XQ  2021-11-07 09:50:33          19.18          23.50   \n",
              "3  ID_6XQOMBXM2DG3  2022-01-01 18:55:15          19.40          15.48   \n",
              "4  ID_UQZW9ISJY9QE  2021-11-05 22:23:48          38.30          34.77   \n",
              "\n",
              "   Temperature  Relative_Humidity  Offset_fault  \n",
              "0         17.4               96.0             0  \n",
              "1         25.0               75.0             0  \n",
              "2         24.9               75.0             0  \n",
              "3         24.9               70.0             0  \n",
              "4         20.9               89.0             0  "
            ],
            "text/html": [
              "\n",
              "  <div id=\"df-ec12f86a-cf20-4c9c-8be4-c9b6cfe96db4\">\n",
              "    <div class=\"colab-df-container\">\n",
              "      <div>\n",
              "<style scoped>\n",
              "    .dataframe tbody tr th:only-of-type {\n",
              "        vertical-align: middle;\n",
              "    }\n",
              "\n",
              "    .dataframe tbody tr th {\n",
              "        vertical-align: top;\n",
              "    }\n",
              "\n",
              "    .dataframe thead th {\n",
              "        text-align: right;\n",
              "    }\n",
              "</style>\n",
              "<table border=\"1\" class=\"dataframe\">\n",
              "  <thead>\n",
              "    <tr style=\"text-align: right;\">\n",
              "      <th></th>\n",
              "      <th>ID</th>\n",
              "      <th>Datetime</th>\n",
              "      <th>Sensor1_PM2.5</th>\n",
              "      <th>Sensor2_PM2.5</th>\n",
              "      <th>Temperature</th>\n",
              "      <th>Relative_Humidity</th>\n",
              "      <th>Offset_fault</th>\n",
              "    </tr>\n",
              "  </thead>\n",
              "  <tbody>\n",
              "    <tr>\n",
              "      <th>0</th>\n",
              "      <td>ID_QF0ZTQJ2SF5Q</td>\n",
              "      <td>2021-11-03 04:06:31</td>\n",
              "      <td>52.58</td>\n",
              "      <td>49.52</td>\n",
              "      <td>17.4</td>\n",
              "      <td>96.0</td>\n",
              "      <td>0</td>\n",
              "    </tr>\n",
              "    <tr>\n",
              "      <th>1</th>\n",
              "      <td>ID_4GTK689CNX5S</td>\n",
              "      <td>2021-11-08 18:43:23</td>\n",
              "      <td>35.25</td>\n",
              "      <td>33.40</td>\n",
              "      <td>25.0</td>\n",
              "      <td>75.0</td>\n",
              "      <td>0</td>\n",
              "    </tr>\n",
              "    <tr>\n",
              "      <th>2</th>\n",
              "      <td>ID_DL7VVKW9U7XQ</td>\n",
              "      <td>2021-11-07 09:50:33</td>\n",
              "      <td>19.18</td>\n",
              "      <td>23.50</td>\n",
              "      <td>24.9</td>\n",
              "      <td>75.0</td>\n",
              "      <td>0</td>\n",
              "    </tr>\n",
              "    <tr>\n",
              "      <th>3</th>\n",
              "      <td>ID_6XQOMBXM2DG3</td>\n",
              "      <td>2022-01-01 18:55:15</td>\n",
              "      <td>19.40</td>\n",
              "      <td>15.48</td>\n",
              "      <td>24.9</td>\n",
              "      <td>70.0</td>\n",
              "      <td>0</td>\n",
              "    </tr>\n",
              "    <tr>\n",
              "      <th>4</th>\n",
              "      <td>ID_UQZW9ISJY9QE</td>\n",
              "      <td>2021-11-05 22:23:48</td>\n",
              "      <td>38.30</td>\n",
              "      <td>34.77</td>\n",
              "      <td>20.9</td>\n",
              "      <td>89.0</td>\n",
              "      <td>0</td>\n",
              "    </tr>\n",
              "  </tbody>\n",
              "</table>\n",
              "</div>\n",
              "      <button class=\"colab-df-convert\" onclick=\"convertToInteractive('df-ec12f86a-cf20-4c9c-8be4-c9b6cfe96db4')\"\n",
              "              title=\"Convert this dataframe to an interactive table.\"\n",
              "              style=\"display:none;\">\n",
              "        \n",
              "  <svg xmlns=\"http://www.w3.org/2000/svg\" height=\"24px\"viewBox=\"0 0 24 24\"\n",
              "       width=\"24px\">\n",
              "    <path d=\"M0 0h24v24H0V0z\" fill=\"none\"/>\n",
              "    <path d=\"M18.56 5.44l.94 2.06.94-2.06 2.06-.94-2.06-.94-.94-2.06-.94 2.06-2.06.94zm-11 1L8.5 8.5l.94-2.06 2.06-.94-2.06-.94L8.5 2.5l-.94 2.06-2.06.94zm10 10l.94 2.06.94-2.06 2.06-.94-2.06-.94-.94-2.06-.94 2.06-2.06.94z\"/><path d=\"M17.41 7.96l-1.37-1.37c-.4-.4-.92-.59-1.43-.59-.52 0-1.04.2-1.43.59L10.3 9.45l-7.72 7.72c-.78.78-.78 2.05 0 2.83L4 21.41c.39.39.9.59 1.41.59.51 0 1.02-.2 1.41-.59l7.78-7.78 2.81-2.81c.8-.78.8-2.07 0-2.86zM5.41 20L4 18.59l7.72-7.72 1.47 1.35L5.41 20z\"/>\n",
              "  </svg>\n",
              "      </button>\n",
              "      \n",
              "  <style>\n",
              "    .colab-df-container {\n",
              "      display:flex;\n",
              "      flex-wrap:wrap;\n",
              "      gap: 12px;\n",
              "    }\n",
              "\n",
              "    .colab-df-convert {\n",
              "      background-color: #E8F0FE;\n",
              "      border: none;\n",
              "      border-radius: 50%;\n",
              "      cursor: pointer;\n",
              "      display: none;\n",
              "      fill: #1967D2;\n",
              "      height: 32px;\n",
              "      padding: 0 0 0 0;\n",
              "      width: 32px;\n",
              "    }\n",
              "\n",
              "    .colab-df-convert:hover {\n",
              "      background-color: #E2EBFA;\n",
              "      box-shadow: 0px 1px 2px rgba(60, 64, 67, 0.3), 0px 1px 3px 1px rgba(60, 64, 67, 0.15);\n",
              "      fill: #174EA6;\n",
              "    }\n",
              "\n",
              "    [theme=dark] .colab-df-convert {\n",
              "      background-color: #3B4455;\n",
              "      fill: #D2E3FC;\n",
              "    }\n",
              "\n",
              "    [theme=dark] .colab-df-convert:hover {\n",
              "      background-color: #434B5C;\n",
              "      box-shadow: 0px 1px 3px 1px rgba(0, 0, 0, 0.15);\n",
              "      filter: drop-shadow(0px 1px 2px rgba(0, 0, 0, 0.3));\n",
              "      fill: #FFFFFF;\n",
              "    }\n",
              "  </style>\n",
              "\n",
              "      <script>\n",
              "        const buttonEl =\n",
              "          document.querySelector('#df-ec12f86a-cf20-4c9c-8be4-c9b6cfe96db4 button.colab-df-convert');\n",
              "        buttonEl.style.display =\n",
              "          google.colab.kernel.accessAllowed ? 'block' : 'none';\n",
              "\n",
              "        async function convertToInteractive(key) {\n",
              "          const element = document.querySelector('#df-ec12f86a-cf20-4c9c-8be4-c9b6cfe96db4');\n",
              "          const dataTable =\n",
              "            await google.colab.kernel.invokeFunction('convertToInteractive',\n",
              "                                                     [key], {});\n",
              "          if (!dataTable) return;\n",
              "\n",
              "          const docLinkHtml = 'Like what you see? Visit the ' +\n",
              "            '<a target=\"_blank\" href=https://colab.research.google.com/notebooks/data_table.ipynb>data table notebook</a>'\n",
              "            + ' to learn more about interactive tables.';\n",
              "          element.innerHTML = '';\n",
              "          dataTable['output_type'] = 'display_data';\n",
              "          await google.colab.output.renderOutput(dataTable, element);\n",
              "          const docLink = document.createElement('div');\n",
              "          docLink.innerHTML = docLinkHtml;\n",
              "          element.appendChild(docLink);\n",
              "        }\n",
              "      </script>\n",
              "    </div>\n",
              "  </div>\n",
              "  "
            ]
          },
          "metadata": {},
          "execution_count": 29
        }
      ]
    },
    {
      "cell_type": "markdown",
      "source": [
        "Afficher la dataframe . On remarque il y'a des colonnes et des lignes"
      ],
      "metadata": {
        "id": "SBugjQ5sDq8h"
      }
    },
    {
      "cell_type": "code",
      "source": [
        "forecast_df"
      ],
      "metadata": {
        "colab": {
          "base_uri": "https://localhost:8080/",
          "height": 835
        },
        "id": "M30-iL6oDsvx",
        "outputId": "c42971c5-4a58-4e84-8f58-20925ec005a8"
      },
      "execution_count": 30,
      "outputs": [
        {
          "output_type": "execute_result",
          "data": {
            "text/plain": [
              "                     ID             Datetime  Sensor1_PM2.5  Sensor2_PM2.5  \\\n",
              "0       ID_QF0ZTQJ2SF5Q  2021-11-03 04:06:31          52.58          49.52   \n",
              "1       ID_4GTK689CNX5S  2021-11-08 18:43:23          35.25          33.40   \n",
              "2       ID_DL7VVKW9U7XQ  2021-11-07 09:50:33          19.18          23.50   \n",
              "3       ID_6XQOMBXM2DG3  2022-01-01 18:55:15          19.40          15.48   \n",
              "4       ID_UQZW9ISJY9QE  2021-11-05 22:23:48          38.30          34.77   \n",
              "...                 ...                  ...            ...            ...   \n",
              "297172  ID_AQFTZIKVX2QL  2021-11-19 12:32:00          36.40          37.77   \n",
              "297173  ID_2X0AJPWOMJNA  2021-11-22 01:22:54          50.12          40.63   \n",
              "297174  ID_0OAQMV7USTI4  2021-11-05 01:27:31          53.68          45.23   \n",
              "297175  ID_Y8FDAO06VXGJ  2021-11-23 22:09:30          96.45         114.67   \n",
              "297176  ID_3XEXH72VWK4J  2021-11-23 06:33:04          44.27          36.77   \n",
              "\n",
              "        Temperature  Relative_Humidity  Offset_fault  \n",
              "0              17.4               96.0             0  \n",
              "1              25.0               75.0             0  \n",
              "2              24.9               75.0             0  \n",
              "3              24.9               70.0             0  \n",
              "4              20.9               89.0             0  \n",
              "...             ...                ...           ...  \n",
              "297172         28.6               62.0             0  \n",
              "297173         21.6               86.0             1  \n",
              "297174         20.2               94.0             1  \n",
              "297175         20.6               93.0             0  \n",
              "297176         17.3               95.0             1  \n",
              "\n",
              "[297177 rows x 7 columns]"
            ],
            "text/html": [
              "\n",
              "  <div id=\"df-75916f0e-b061-4f23-8030-d7658b27a504\">\n",
              "    <div class=\"colab-df-container\">\n",
              "      <div>\n",
              "<style scoped>\n",
              "    .dataframe tbody tr th:only-of-type {\n",
              "        vertical-align: middle;\n",
              "    }\n",
              "\n",
              "    .dataframe tbody tr th {\n",
              "        vertical-align: top;\n",
              "    }\n",
              "\n",
              "    .dataframe thead th {\n",
              "        text-align: right;\n",
              "    }\n",
              "</style>\n",
              "<table border=\"1\" class=\"dataframe\">\n",
              "  <thead>\n",
              "    <tr style=\"text-align: right;\">\n",
              "      <th></th>\n",
              "      <th>ID</th>\n",
              "      <th>Datetime</th>\n",
              "      <th>Sensor1_PM2.5</th>\n",
              "      <th>Sensor2_PM2.5</th>\n",
              "      <th>Temperature</th>\n",
              "      <th>Relative_Humidity</th>\n",
              "      <th>Offset_fault</th>\n",
              "    </tr>\n",
              "  </thead>\n",
              "  <tbody>\n",
              "    <tr>\n",
              "      <th>0</th>\n",
              "      <td>ID_QF0ZTQJ2SF5Q</td>\n",
              "      <td>2021-11-03 04:06:31</td>\n",
              "      <td>52.58</td>\n",
              "      <td>49.52</td>\n",
              "      <td>17.4</td>\n",
              "      <td>96.0</td>\n",
              "      <td>0</td>\n",
              "    </tr>\n",
              "    <tr>\n",
              "      <th>1</th>\n",
              "      <td>ID_4GTK689CNX5S</td>\n",
              "      <td>2021-11-08 18:43:23</td>\n",
              "      <td>35.25</td>\n",
              "      <td>33.40</td>\n",
              "      <td>25.0</td>\n",
              "      <td>75.0</td>\n",
              "      <td>0</td>\n",
              "    </tr>\n",
              "    <tr>\n",
              "      <th>2</th>\n",
              "      <td>ID_DL7VVKW9U7XQ</td>\n",
              "      <td>2021-11-07 09:50:33</td>\n",
              "      <td>19.18</td>\n",
              "      <td>23.50</td>\n",
              "      <td>24.9</td>\n",
              "      <td>75.0</td>\n",
              "      <td>0</td>\n",
              "    </tr>\n",
              "    <tr>\n",
              "      <th>3</th>\n",
              "      <td>ID_6XQOMBXM2DG3</td>\n",
              "      <td>2022-01-01 18:55:15</td>\n",
              "      <td>19.40</td>\n",
              "      <td>15.48</td>\n",
              "      <td>24.9</td>\n",
              "      <td>70.0</td>\n",
              "      <td>0</td>\n",
              "    </tr>\n",
              "    <tr>\n",
              "      <th>4</th>\n",
              "      <td>ID_UQZW9ISJY9QE</td>\n",
              "      <td>2021-11-05 22:23:48</td>\n",
              "      <td>38.30</td>\n",
              "      <td>34.77</td>\n",
              "      <td>20.9</td>\n",
              "      <td>89.0</td>\n",
              "      <td>0</td>\n",
              "    </tr>\n",
              "    <tr>\n",
              "      <th>...</th>\n",
              "      <td>...</td>\n",
              "      <td>...</td>\n",
              "      <td>...</td>\n",
              "      <td>...</td>\n",
              "      <td>...</td>\n",
              "      <td>...</td>\n",
              "      <td>...</td>\n",
              "    </tr>\n",
              "    <tr>\n",
              "      <th>297172</th>\n",
              "      <td>ID_AQFTZIKVX2QL</td>\n",
              "      <td>2021-11-19 12:32:00</td>\n",
              "      <td>36.40</td>\n",
              "      <td>37.77</td>\n",
              "      <td>28.6</td>\n",
              "      <td>62.0</td>\n",
              "      <td>0</td>\n",
              "    </tr>\n",
              "    <tr>\n",
              "      <th>297173</th>\n",
              "      <td>ID_2X0AJPWOMJNA</td>\n",
              "      <td>2021-11-22 01:22:54</td>\n",
              "      <td>50.12</td>\n",
              "      <td>40.63</td>\n",
              "      <td>21.6</td>\n",
              "      <td>86.0</td>\n",
              "      <td>1</td>\n",
              "    </tr>\n",
              "    <tr>\n",
              "      <th>297174</th>\n",
              "      <td>ID_0OAQMV7USTI4</td>\n",
              "      <td>2021-11-05 01:27:31</td>\n",
              "      <td>53.68</td>\n",
              "      <td>45.23</td>\n",
              "      <td>20.2</td>\n",
              "      <td>94.0</td>\n",
              "      <td>1</td>\n",
              "    </tr>\n",
              "    <tr>\n",
              "      <th>297175</th>\n",
              "      <td>ID_Y8FDAO06VXGJ</td>\n",
              "      <td>2021-11-23 22:09:30</td>\n",
              "      <td>96.45</td>\n",
              "      <td>114.67</td>\n",
              "      <td>20.6</td>\n",
              "      <td>93.0</td>\n",
              "      <td>0</td>\n",
              "    </tr>\n",
              "    <tr>\n",
              "      <th>297176</th>\n",
              "      <td>ID_3XEXH72VWK4J</td>\n",
              "      <td>2021-11-23 06:33:04</td>\n",
              "      <td>44.27</td>\n",
              "      <td>36.77</td>\n",
              "      <td>17.3</td>\n",
              "      <td>95.0</td>\n",
              "      <td>1</td>\n",
              "    </tr>\n",
              "  </tbody>\n",
              "</table>\n",
              "<p>297177 rows × 7 columns</p>\n",
              "</div>\n",
              "      <button class=\"colab-df-convert\" onclick=\"convertToInteractive('df-75916f0e-b061-4f23-8030-d7658b27a504')\"\n",
              "              title=\"Convert this dataframe to an interactive table.\"\n",
              "              style=\"display:none;\">\n",
              "        \n",
              "  <svg xmlns=\"http://www.w3.org/2000/svg\" height=\"24px\"viewBox=\"0 0 24 24\"\n",
              "       width=\"24px\">\n",
              "    <path d=\"M0 0h24v24H0V0z\" fill=\"none\"/>\n",
              "    <path d=\"M18.56 5.44l.94 2.06.94-2.06 2.06-.94-2.06-.94-.94-2.06-.94 2.06-2.06.94zm-11 1L8.5 8.5l.94-2.06 2.06-.94-2.06-.94L8.5 2.5l-.94 2.06-2.06.94zm10 10l.94 2.06.94-2.06 2.06-.94-2.06-.94-.94-2.06-.94 2.06-2.06.94z\"/><path d=\"M17.41 7.96l-1.37-1.37c-.4-.4-.92-.59-1.43-.59-.52 0-1.04.2-1.43.59L10.3 9.45l-7.72 7.72c-.78.78-.78 2.05 0 2.83L4 21.41c.39.39.9.59 1.41.59.51 0 1.02-.2 1.41-.59l7.78-7.78 2.81-2.81c.8-.78.8-2.07 0-2.86zM5.41 20L4 18.59l7.72-7.72 1.47 1.35L5.41 20z\"/>\n",
              "  </svg>\n",
              "      </button>\n",
              "      \n",
              "  <style>\n",
              "    .colab-df-container {\n",
              "      display:flex;\n",
              "      flex-wrap:wrap;\n",
              "      gap: 12px;\n",
              "    }\n",
              "\n",
              "    .colab-df-convert {\n",
              "      background-color: #E8F0FE;\n",
              "      border: none;\n",
              "      border-radius: 50%;\n",
              "      cursor: pointer;\n",
              "      display: none;\n",
              "      fill: #1967D2;\n",
              "      height: 32px;\n",
              "      padding: 0 0 0 0;\n",
              "      width: 32px;\n",
              "    }\n",
              "\n",
              "    .colab-df-convert:hover {\n",
              "      background-color: #E2EBFA;\n",
              "      box-shadow: 0px 1px 2px rgba(60, 64, 67, 0.3), 0px 1px 3px 1px rgba(60, 64, 67, 0.15);\n",
              "      fill: #174EA6;\n",
              "    }\n",
              "\n",
              "    [theme=dark] .colab-df-convert {\n",
              "      background-color: #3B4455;\n",
              "      fill: #D2E3FC;\n",
              "    }\n",
              "\n",
              "    [theme=dark] .colab-df-convert:hover {\n",
              "      background-color: #434B5C;\n",
              "      box-shadow: 0px 1px 3px 1px rgba(0, 0, 0, 0.15);\n",
              "      filter: drop-shadow(0px 1px 2px rgba(0, 0, 0, 0.3));\n",
              "      fill: #FFFFFF;\n",
              "    }\n",
              "  </style>\n",
              "\n",
              "      <script>\n",
              "        const buttonEl =\n",
              "          document.querySelector('#df-75916f0e-b061-4f23-8030-d7658b27a504 button.colab-df-convert');\n",
              "        buttonEl.style.display =\n",
              "          google.colab.kernel.accessAllowed ? 'block' : 'none';\n",
              "\n",
              "        async function convertToInteractive(key) {\n",
              "          const element = document.querySelector('#df-75916f0e-b061-4f23-8030-d7658b27a504');\n",
              "          const dataTable =\n",
              "            await google.colab.kernel.invokeFunction('convertToInteractive',\n",
              "                                                     [key], {});\n",
              "          if (!dataTable) return;\n",
              "\n",
              "          const docLinkHtml = 'Like what you see? Visit the ' +\n",
              "            '<a target=\"_blank\" href=https://colab.research.google.com/notebooks/data_table.ipynb>data table notebook</a>'\n",
              "            + ' to learn more about interactive tables.';\n",
              "          element.innerHTML = '';\n",
              "          dataTable['output_type'] = 'display_data';\n",
              "          await google.colab.output.renderOutput(dataTable, element);\n",
              "          const docLink = document.createElement('div');\n",
              "          docLink.innerHTML = docLinkHtml;\n",
              "          element.appendChild(docLink);\n",
              "        }\n",
              "      </script>\n",
              "    </div>\n",
              "  </div>\n",
              "  "
            ]
          },
          "metadata": {},
          "execution_count": 30
        }
      ]
    },
    {
      "cell_type": "markdown",
      "source": [
        "Afficher les derniers lignes du dataframe"
      ],
      "metadata": {
        "id": "3kSAChh4D-6G"
      }
    },
    {
      "cell_type": "code",
      "source": [
        "forecast_df.tail()"
      ],
      "metadata": {
        "colab": {
          "base_uri": "https://localhost:8080/",
          "height": 444
        },
        "id": "5hpnR9BcED9W",
        "outputId": "4986d1ea-968b-4eeb-ab75-2c1cf045132e"
      },
      "execution_count": 31,
      "outputs": [
        {
          "output_type": "execute_result",
          "data": {
            "text/plain": [
              "                     ID             Datetime  Sensor1_PM2.5  Sensor2_PM2.5  \\\n",
              "297172  ID_AQFTZIKVX2QL  2021-11-19 12:32:00          36.40          37.77   \n",
              "297173  ID_2X0AJPWOMJNA  2021-11-22 01:22:54          50.12          40.63   \n",
              "297174  ID_0OAQMV7USTI4  2021-11-05 01:27:31          53.68          45.23   \n",
              "297175  ID_Y8FDAO06VXGJ  2021-11-23 22:09:30          96.45         114.67   \n",
              "297176  ID_3XEXH72VWK4J  2021-11-23 06:33:04          44.27          36.77   \n",
              "\n",
              "        Temperature  Relative_Humidity  Offset_fault  \n",
              "297172         28.6               62.0             0  \n",
              "297173         21.6               86.0             1  \n",
              "297174         20.2               94.0             1  \n",
              "297175         20.6               93.0             0  \n",
              "297176         17.3               95.0             1  "
            ],
            "text/html": [
              "\n",
              "  <div id=\"df-bc4971bc-26b2-4fae-9d1b-073453bf755e\">\n",
              "    <div class=\"colab-df-container\">\n",
              "      <div>\n",
              "<style scoped>\n",
              "    .dataframe tbody tr th:only-of-type {\n",
              "        vertical-align: middle;\n",
              "    }\n",
              "\n",
              "    .dataframe tbody tr th {\n",
              "        vertical-align: top;\n",
              "    }\n",
              "\n",
              "    .dataframe thead th {\n",
              "        text-align: right;\n",
              "    }\n",
              "</style>\n",
              "<table border=\"1\" class=\"dataframe\">\n",
              "  <thead>\n",
              "    <tr style=\"text-align: right;\">\n",
              "      <th></th>\n",
              "      <th>ID</th>\n",
              "      <th>Datetime</th>\n",
              "      <th>Sensor1_PM2.5</th>\n",
              "      <th>Sensor2_PM2.5</th>\n",
              "      <th>Temperature</th>\n",
              "      <th>Relative_Humidity</th>\n",
              "      <th>Offset_fault</th>\n",
              "    </tr>\n",
              "  </thead>\n",
              "  <tbody>\n",
              "    <tr>\n",
              "      <th>297172</th>\n",
              "      <td>ID_AQFTZIKVX2QL</td>\n",
              "      <td>2021-11-19 12:32:00</td>\n",
              "      <td>36.40</td>\n",
              "      <td>37.77</td>\n",
              "      <td>28.6</td>\n",
              "      <td>62.0</td>\n",
              "      <td>0</td>\n",
              "    </tr>\n",
              "    <tr>\n",
              "      <th>297173</th>\n",
              "      <td>ID_2X0AJPWOMJNA</td>\n",
              "      <td>2021-11-22 01:22:54</td>\n",
              "      <td>50.12</td>\n",
              "      <td>40.63</td>\n",
              "      <td>21.6</td>\n",
              "      <td>86.0</td>\n",
              "      <td>1</td>\n",
              "    </tr>\n",
              "    <tr>\n",
              "      <th>297174</th>\n",
              "      <td>ID_0OAQMV7USTI4</td>\n",
              "      <td>2021-11-05 01:27:31</td>\n",
              "      <td>53.68</td>\n",
              "      <td>45.23</td>\n",
              "      <td>20.2</td>\n",
              "      <td>94.0</td>\n",
              "      <td>1</td>\n",
              "    </tr>\n",
              "    <tr>\n",
              "      <th>297175</th>\n",
              "      <td>ID_Y8FDAO06VXGJ</td>\n",
              "      <td>2021-11-23 22:09:30</td>\n",
              "      <td>96.45</td>\n",
              "      <td>114.67</td>\n",
              "      <td>20.6</td>\n",
              "      <td>93.0</td>\n",
              "      <td>0</td>\n",
              "    </tr>\n",
              "    <tr>\n",
              "      <th>297176</th>\n",
              "      <td>ID_3XEXH72VWK4J</td>\n",
              "      <td>2021-11-23 06:33:04</td>\n",
              "      <td>44.27</td>\n",
              "      <td>36.77</td>\n",
              "      <td>17.3</td>\n",
              "      <td>95.0</td>\n",
              "      <td>1</td>\n",
              "    </tr>\n",
              "  </tbody>\n",
              "</table>\n",
              "</div>\n",
              "      <button class=\"colab-df-convert\" onclick=\"convertToInteractive('df-bc4971bc-26b2-4fae-9d1b-073453bf755e')\"\n",
              "              title=\"Convert this dataframe to an interactive table.\"\n",
              "              style=\"display:none;\">\n",
              "        \n",
              "  <svg xmlns=\"http://www.w3.org/2000/svg\" height=\"24px\"viewBox=\"0 0 24 24\"\n",
              "       width=\"24px\">\n",
              "    <path d=\"M0 0h24v24H0V0z\" fill=\"none\"/>\n",
              "    <path d=\"M18.56 5.44l.94 2.06.94-2.06 2.06-.94-2.06-.94-.94-2.06-.94 2.06-2.06.94zm-11 1L8.5 8.5l.94-2.06 2.06-.94-2.06-.94L8.5 2.5l-.94 2.06-2.06.94zm10 10l.94 2.06.94-2.06 2.06-.94-2.06-.94-.94-2.06-.94 2.06-2.06.94z\"/><path d=\"M17.41 7.96l-1.37-1.37c-.4-.4-.92-.59-1.43-.59-.52 0-1.04.2-1.43.59L10.3 9.45l-7.72 7.72c-.78.78-.78 2.05 0 2.83L4 21.41c.39.39.9.59 1.41.59.51 0 1.02-.2 1.41-.59l7.78-7.78 2.81-2.81c.8-.78.8-2.07 0-2.86zM5.41 20L4 18.59l7.72-7.72 1.47 1.35L5.41 20z\"/>\n",
              "  </svg>\n",
              "      </button>\n",
              "      \n",
              "  <style>\n",
              "    .colab-df-container {\n",
              "      display:flex;\n",
              "      flex-wrap:wrap;\n",
              "      gap: 12px;\n",
              "    }\n",
              "\n",
              "    .colab-df-convert {\n",
              "      background-color: #E8F0FE;\n",
              "      border: none;\n",
              "      border-radius: 50%;\n",
              "      cursor: pointer;\n",
              "      display: none;\n",
              "      fill: #1967D2;\n",
              "      height: 32px;\n",
              "      padding: 0 0 0 0;\n",
              "      width: 32px;\n",
              "    }\n",
              "\n",
              "    .colab-df-convert:hover {\n",
              "      background-color: #E2EBFA;\n",
              "      box-shadow: 0px 1px 2px rgba(60, 64, 67, 0.3), 0px 1px 3px 1px rgba(60, 64, 67, 0.15);\n",
              "      fill: #174EA6;\n",
              "    }\n",
              "\n",
              "    [theme=dark] .colab-df-convert {\n",
              "      background-color: #3B4455;\n",
              "      fill: #D2E3FC;\n",
              "    }\n",
              "\n",
              "    [theme=dark] .colab-df-convert:hover {\n",
              "      background-color: #434B5C;\n",
              "      box-shadow: 0px 1px 3px 1px rgba(0, 0, 0, 0.15);\n",
              "      filter: drop-shadow(0px 1px 2px rgba(0, 0, 0, 0.3));\n",
              "      fill: #FFFFFF;\n",
              "    }\n",
              "  </style>\n",
              "\n",
              "      <script>\n",
              "        const buttonEl =\n",
              "          document.querySelector('#df-bc4971bc-26b2-4fae-9d1b-073453bf755e button.colab-df-convert');\n",
              "        buttonEl.style.display =\n",
              "          google.colab.kernel.accessAllowed ? 'block' : 'none';\n",
              "\n",
              "        async function convertToInteractive(key) {\n",
              "          const element = document.querySelector('#df-bc4971bc-26b2-4fae-9d1b-073453bf755e');\n",
              "          const dataTable =\n",
              "            await google.colab.kernel.invokeFunction('convertToInteractive',\n",
              "                                                     [key], {});\n",
              "          if (!dataTable) return;\n",
              "\n",
              "          const docLinkHtml = 'Like what you see? Visit the ' +\n",
              "            '<a target=\"_blank\" href=https://colab.research.google.com/notebooks/data_table.ipynb>data table notebook</a>'\n",
              "            + ' to learn more about interactive tables.';\n",
              "          element.innerHTML = '';\n",
              "          dataTable['output_type'] = 'display_data';\n",
              "          await google.colab.output.renderOutput(dataTable, element);\n",
              "          const docLink = document.createElement('div');\n",
              "          docLink.innerHTML = docLinkHtml;\n",
              "          element.appendChild(docLink);\n",
              "        }\n",
              "      </script>\n",
              "    </div>\n",
              "  </div>\n",
              "  "
            ]
          },
          "metadata": {},
          "execution_count": 31
        }
      ]
    },
    {
      "cell_type": "markdown",
      "source": [
        "Afficher les colonnes"
      ],
      "metadata": {
        "id": "OE-S1-4DEPzS"
      }
    },
    {
      "cell_type": "code",
      "source": [
        "forecast_df.columns"
      ],
      "metadata": {
        "colab": {
          "base_uri": "https://localhost:8080/"
        },
        "id": "gCLIf-vIERnN",
        "outputId": "6220bee3-ee22-4eda-ac1f-b31447152576"
      },
      "execution_count": 32,
      "outputs": [
        {
          "output_type": "execute_result",
          "data": {
            "text/plain": [
              "Index(['ID', 'Datetime', 'Sensor1_PM2.5', 'Sensor2_PM2.5', 'Temperature',\n",
              "       'Relative_Humidity', 'Offset_fault'],\n",
              "      dtype='object')"
            ]
          },
          "metadata": {},
          "execution_count": 32
        }
      ]
    },
    {
      "cell_type": "code",
      "source": [
        "type(forecast_df.columns)"
      ],
      "metadata": {
        "colab": {
          "base_uri": "https://localhost:8080/"
        },
        "id": "WeEejbslEc0f",
        "outputId": "9fa4ce22-c19b-45ae-9c22-f1c9c37e3eae"
      },
      "execution_count": 33,
      "outputs": [
        {
          "output_type": "execute_result",
          "data": {
            "text/plain": [
              "pandas.core.indexes.base.Index"
            ]
          },
          "metadata": {},
          "execution_count": 33
        }
      ]
    },
    {
      "cell_type": "markdown",
      "source": [
        "Afficher le nombre de colonnes et le nombres de lignes"
      ],
      "metadata": {
        "id": "ek5t0UisE7JC"
      }
    },
    {
      "cell_type": "code",
      "source": [
        "forecast_df.shape"
      ],
      "metadata": {
        "colab": {
          "base_uri": "https://localhost:8080/"
        },
        "id": "kk5WitX5GPtk",
        "outputId": "924b9924-cfd2-4da8-8a27-9061ec999b20"
      },
      "execution_count": 34,
      "outputs": [
        {
          "output_type": "execute_result",
          "data": {
            "text/plain": [
              "(297177, 7)"
            ]
          },
          "metadata": {},
          "execution_count": 34
        }
      ]
    },
    {
      "cell_type": "markdown",
      "source": [
        "On n'a 297177 colonnes et 7 lignes"
      ],
      "metadata": {
        "id": "TXSxNfTnGZ5k"
      }
    },
    {
      "cell_type": "markdown",
      "source": [
        "Afficher les index"
      ],
      "metadata": {
        "id": "IsGED02DGoN8"
      }
    },
    {
      "cell_type": "code",
      "source": [
        "forecast_df.index"
      ],
      "metadata": {
        "colab": {
          "base_uri": "https://localhost:8080/"
        },
        "id": "U-4j7N4uGtIn",
        "outputId": "a4b4e38b-cc7d-4537-ade6-0707c7cc3598"
      },
      "execution_count": 35,
      "outputs": [
        {
          "output_type": "execute_result",
          "data": {
            "text/plain": [
              "RangeIndex(start=0, stop=297177, step=1)"
            ]
          },
          "metadata": {},
          "execution_count": 35
        }
      ]
    },
    {
      "cell_type": "markdown",
      "source": [
        "Afficher les informations sur le Dataframe forecast"
      ],
      "metadata": {
        "id": "PTfOFo5GG4f8"
      }
    },
    {
      "cell_type": "code",
      "source": [
        "forecast_df.info()"
      ],
      "metadata": {
        "colab": {
          "base_uri": "https://localhost:8080/"
        },
        "id": "35c_RdKBG7lh",
        "outputId": "1aeffaa1-c095-4506-ac90-96536c870db0"
      },
      "execution_count": 36,
      "outputs": [
        {
          "output_type": "stream",
          "name": "stdout",
          "text": [
            "<class 'pandas.core.frame.DataFrame'>\n",
            "RangeIndex: 297177 entries, 0 to 297176\n",
            "Data columns (total 7 columns):\n",
            " #   Column             Non-Null Count   Dtype  \n",
            "---  ------             --------------   -----  \n",
            " 0   ID                 297177 non-null  object \n",
            " 1   Datetime           297177 non-null  object \n",
            " 2   Sensor1_PM2.5      293563 non-null  float64\n",
            " 3   Sensor2_PM2.5      293563 non-null  float64\n",
            " 4   Temperature        293628 non-null  float64\n",
            " 5   Relative_Humidity  293628 non-null  float64\n",
            " 6   Offset_fault       297177 non-null  int64  \n",
            "dtypes: float64(4), int64(1), object(2)\n",
            "memory usage: 15.9+ MB\n"
          ]
        }
      ]
    },
    {
      "cell_type": "markdown",
      "source": [
        "Afficher les valeurs"
      ],
      "metadata": {
        "id": "mBaz3-c8HO7t"
      }
    },
    {
      "cell_type": "code",
      "source": [
        "forecast_df.values"
      ],
      "metadata": {
        "colab": {
          "base_uri": "https://localhost:8080/"
        },
        "id": "cgKghxeCHRE8",
        "outputId": "779a9481-2199-470e-b4da-c7db7a48d01f"
      },
      "execution_count": 37,
      "outputs": [
        {
          "output_type": "execute_result",
          "data": {
            "text/plain": [
              "array([['ID_QF0ZTQJ2SF5Q', '2021-11-03 04:06:31', 52.58, ..., 17.4, 96.0,\n",
              "        0],\n",
              "       ['ID_4GTK689CNX5S', '2021-11-08 18:43:23', 35.25, ..., 25.0, 75.0,\n",
              "        0],\n",
              "       ['ID_DL7VVKW9U7XQ', '2021-11-07 09:50:33', 19.18, ..., 24.9, 75.0,\n",
              "        0],\n",
              "       ...,\n",
              "       ['ID_0OAQMV7USTI4', '2021-11-05 01:27:31', 53.68, ..., 20.2, 94.0,\n",
              "        1],\n",
              "       ['ID_Y8FDAO06VXGJ', '2021-11-23 22:09:30', 96.45, ..., 20.6, 93.0,\n",
              "        0],\n",
              "       ['ID_3XEXH72VWK4J', '2021-11-23 06:33:04', 44.27, ..., 17.3, 95.0,\n",
              "        1]], dtype=object)"
            ]
          },
          "metadata": {},
          "execution_count": 37
        }
      ]
    },
    {
      "cell_type": "markdown",
      "source": [
        "Afficher une description statistique"
      ],
      "metadata": {
        "id": "aLpfFS5xHf2i"
      }
    },
    {
      "cell_type": "code",
      "source": [
        "forecast_df.describe()"
      ],
      "metadata": {
        "colab": {
          "base_uri": "https://localhost:8080/",
          "height": 300
        },
        "id": "zz8anBAQHjsy",
        "outputId": "7a4ba28f-322d-479b-d2c7-3bc7f5d0da65"
      },
      "execution_count": 38,
      "outputs": [
        {
          "output_type": "execute_result",
          "data": {
            "text/plain": [
              "       Sensor1_PM2.5  Sensor2_PM2.5    Temperature  Relative_Humidity  \\\n",
              "count  293563.000000  293563.000000  293628.000000      293628.000000   \n",
              "mean       40.751195      38.183018      23.316554          78.653623   \n",
              "std        28.526182      28.647761       3.836971          14.772725   \n",
              "min        -9.450000      -9.700000      16.700000          27.000000   \n",
              "25%        22.430000      19.520000      20.400000          68.000000   \n",
              "50%        36.470000      33.720000      21.900000          84.000000   \n",
              "75%        49.420000      47.570000      26.300000          91.000000   \n",
              "max       997.960000     997.260000      34.900000          99.000000   \n",
              "\n",
              "        Offset_fault  \n",
              "count  297177.000000  \n",
              "mean        0.371072  \n",
              "std         0.483092  \n",
              "min         0.000000  \n",
              "25%         0.000000  \n",
              "50%         0.000000  \n",
              "75%         1.000000  \n",
              "max         1.000000  "
            ],
            "text/html": [
              "\n",
              "  <div id=\"df-d9fe515b-7d52-4afe-9a15-c800dbc9addb\">\n",
              "    <div class=\"colab-df-container\">\n",
              "      <div>\n",
              "<style scoped>\n",
              "    .dataframe tbody tr th:only-of-type {\n",
              "        vertical-align: middle;\n",
              "    }\n",
              "\n",
              "    .dataframe tbody tr th {\n",
              "        vertical-align: top;\n",
              "    }\n",
              "\n",
              "    .dataframe thead th {\n",
              "        text-align: right;\n",
              "    }\n",
              "</style>\n",
              "<table border=\"1\" class=\"dataframe\">\n",
              "  <thead>\n",
              "    <tr style=\"text-align: right;\">\n",
              "      <th></th>\n",
              "      <th>Sensor1_PM2.5</th>\n",
              "      <th>Sensor2_PM2.5</th>\n",
              "      <th>Temperature</th>\n",
              "      <th>Relative_Humidity</th>\n",
              "      <th>Offset_fault</th>\n",
              "    </tr>\n",
              "  </thead>\n",
              "  <tbody>\n",
              "    <tr>\n",
              "      <th>count</th>\n",
              "      <td>293563.000000</td>\n",
              "      <td>293563.000000</td>\n",
              "      <td>293628.000000</td>\n",
              "      <td>293628.000000</td>\n",
              "      <td>297177.000000</td>\n",
              "    </tr>\n",
              "    <tr>\n",
              "      <th>mean</th>\n",
              "      <td>40.751195</td>\n",
              "      <td>38.183018</td>\n",
              "      <td>23.316554</td>\n",
              "      <td>78.653623</td>\n",
              "      <td>0.371072</td>\n",
              "    </tr>\n",
              "    <tr>\n",
              "      <th>std</th>\n",
              "      <td>28.526182</td>\n",
              "      <td>28.647761</td>\n",
              "      <td>3.836971</td>\n",
              "      <td>14.772725</td>\n",
              "      <td>0.483092</td>\n",
              "    </tr>\n",
              "    <tr>\n",
              "      <th>min</th>\n",
              "      <td>-9.450000</td>\n",
              "      <td>-9.700000</td>\n",
              "      <td>16.700000</td>\n",
              "      <td>27.000000</td>\n",
              "      <td>0.000000</td>\n",
              "    </tr>\n",
              "    <tr>\n",
              "      <th>25%</th>\n",
              "      <td>22.430000</td>\n",
              "      <td>19.520000</td>\n",
              "      <td>20.400000</td>\n",
              "      <td>68.000000</td>\n",
              "      <td>0.000000</td>\n",
              "    </tr>\n",
              "    <tr>\n",
              "      <th>50%</th>\n",
              "      <td>36.470000</td>\n",
              "      <td>33.720000</td>\n",
              "      <td>21.900000</td>\n",
              "      <td>84.000000</td>\n",
              "      <td>0.000000</td>\n",
              "    </tr>\n",
              "    <tr>\n",
              "      <th>75%</th>\n",
              "      <td>49.420000</td>\n",
              "      <td>47.570000</td>\n",
              "      <td>26.300000</td>\n",
              "      <td>91.000000</td>\n",
              "      <td>1.000000</td>\n",
              "    </tr>\n",
              "    <tr>\n",
              "      <th>max</th>\n",
              "      <td>997.960000</td>\n",
              "      <td>997.260000</td>\n",
              "      <td>34.900000</td>\n",
              "      <td>99.000000</td>\n",
              "      <td>1.000000</td>\n",
              "    </tr>\n",
              "  </tbody>\n",
              "</table>\n",
              "</div>\n",
              "      <button class=\"colab-df-convert\" onclick=\"convertToInteractive('df-d9fe515b-7d52-4afe-9a15-c800dbc9addb')\"\n",
              "              title=\"Convert this dataframe to an interactive table.\"\n",
              "              style=\"display:none;\">\n",
              "        \n",
              "  <svg xmlns=\"http://www.w3.org/2000/svg\" height=\"24px\"viewBox=\"0 0 24 24\"\n",
              "       width=\"24px\">\n",
              "    <path d=\"M0 0h24v24H0V0z\" fill=\"none\"/>\n",
              "    <path d=\"M18.56 5.44l.94 2.06.94-2.06 2.06-.94-2.06-.94-.94-2.06-.94 2.06-2.06.94zm-11 1L8.5 8.5l.94-2.06 2.06-.94-2.06-.94L8.5 2.5l-.94 2.06-2.06.94zm10 10l.94 2.06.94-2.06 2.06-.94-2.06-.94-.94-2.06-.94 2.06-2.06.94z\"/><path d=\"M17.41 7.96l-1.37-1.37c-.4-.4-.92-.59-1.43-.59-.52 0-1.04.2-1.43.59L10.3 9.45l-7.72 7.72c-.78.78-.78 2.05 0 2.83L4 21.41c.39.39.9.59 1.41.59.51 0 1.02-.2 1.41-.59l7.78-7.78 2.81-2.81c.8-.78.8-2.07 0-2.86zM5.41 20L4 18.59l7.72-7.72 1.47 1.35L5.41 20z\"/>\n",
              "  </svg>\n",
              "      </button>\n",
              "      \n",
              "  <style>\n",
              "    .colab-df-container {\n",
              "      display:flex;\n",
              "      flex-wrap:wrap;\n",
              "      gap: 12px;\n",
              "    }\n",
              "\n",
              "    .colab-df-convert {\n",
              "      background-color: #E8F0FE;\n",
              "      border: none;\n",
              "      border-radius: 50%;\n",
              "      cursor: pointer;\n",
              "      display: none;\n",
              "      fill: #1967D2;\n",
              "      height: 32px;\n",
              "      padding: 0 0 0 0;\n",
              "      width: 32px;\n",
              "    }\n",
              "\n",
              "    .colab-df-convert:hover {\n",
              "      background-color: #E2EBFA;\n",
              "      box-shadow: 0px 1px 2px rgba(60, 64, 67, 0.3), 0px 1px 3px 1px rgba(60, 64, 67, 0.15);\n",
              "      fill: #174EA6;\n",
              "    }\n",
              "\n",
              "    [theme=dark] .colab-df-convert {\n",
              "      background-color: #3B4455;\n",
              "      fill: #D2E3FC;\n",
              "    }\n",
              "\n",
              "    [theme=dark] .colab-df-convert:hover {\n",
              "      background-color: #434B5C;\n",
              "      box-shadow: 0px 1px 3px 1px rgba(0, 0, 0, 0.15);\n",
              "      filter: drop-shadow(0px 1px 2px rgba(0, 0, 0, 0.3));\n",
              "      fill: #FFFFFF;\n",
              "    }\n",
              "  </style>\n",
              "\n",
              "      <script>\n",
              "        const buttonEl =\n",
              "          document.querySelector('#df-d9fe515b-7d52-4afe-9a15-c800dbc9addb button.colab-df-convert');\n",
              "        buttonEl.style.display =\n",
              "          google.colab.kernel.accessAllowed ? 'block' : 'none';\n",
              "\n",
              "        async function convertToInteractive(key) {\n",
              "          const element = document.querySelector('#df-d9fe515b-7d52-4afe-9a15-c800dbc9addb');\n",
              "          const dataTable =\n",
              "            await google.colab.kernel.invokeFunction('convertToInteractive',\n",
              "                                                     [key], {});\n",
              "          if (!dataTable) return;\n",
              "\n",
              "          const docLinkHtml = 'Like what you see? Visit the ' +\n",
              "            '<a target=\"_blank\" href=https://colab.research.google.com/notebooks/data_table.ipynb>data table notebook</a>'\n",
              "            + ' to learn more about interactive tables.';\n",
              "          element.innerHTML = '';\n",
              "          dataTable['output_type'] = 'display_data';\n",
              "          await google.colab.output.renderOutput(dataTable, element);\n",
              "          const docLink = document.createElement('div');\n",
              "          docLink.innerHTML = docLinkHtml;\n",
              "          element.appendChild(docLink);\n",
              "        }\n",
              "      </script>\n",
              "    </div>\n",
              "  </div>\n",
              "  "
            ]
          },
          "metadata": {},
          "execution_count": 38
        }
      ]
    },
    {
      "cell_type": "markdown",
      "source": [
        "Afficher le type de données de chaque colonnes"
      ],
      "metadata": {
        "id": "hOxfRb6pIW42"
      }
    },
    {
      "cell_type": "code",
      "source": [
        "forecast_df.dtypes"
      ],
      "metadata": {
        "colab": {
          "base_uri": "https://localhost:8080/"
        },
        "id": "hWF0umDtIbJj",
        "outputId": "872de14c-38c5-446e-cf0a-e6ca0915f622"
      },
      "execution_count": 39,
      "outputs": [
        {
          "output_type": "execute_result",
          "data": {
            "text/plain": [
              "ID                    object\n",
              "Datetime              object\n",
              "Sensor1_PM2.5        float64\n",
              "Sensor2_PM2.5        float64\n",
              "Temperature          float64\n",
              "Relative_Humidity    float64\n",
              "Offset_fault           int64\n",
              "dtype: object"
            ]
          },
          "metadata": {},
          "execution_count": 39
        }
      ]
    },
    {
      "cell_type": "markdown",
      "source": [
        "Afficher les temperatures"
      ],
      "metadata": {
        "id": "yXv7gAOnJrjb"
      }
    },
    {
      "cell_type": "code",
      "source": [
        "forecast_df['Temperature']"
      ],
      "metadata": {
        "colab": {
          "base_uri": "https://localhost:8080/"
        },
        "id": "irrE6KBNJtvF",
        "outputId": "0bdf80de-da7a-4081-fdca-e70e21e59279"
      },
      "execution_count": 40,
      "outputs": [
        {
          "output_type": "execute_result",
          "data": {
            "text/plain": [
              "0         17.4\n",
              "1         25.0\n",
              "2         24.9\n",
              "3         24.9\n",
              "4         20.9\n",
              "          ... \n",
              "297172    28.6\n",
              "297173    21.6\n",
              "297174    20.2\n",
              "297175    20.6\n",
              "297176    17.3\n",
              "Name: Temperature, Length: 297177, dtype: float64"
            ]
          },
          "metadata": {},
          "execution_count": 40
        }
      ]
    },
    {
      "cell_type": "markdown",
      "source": [
        "Afficher les humidites"
      ],
      "metadata": {
        "id": "LY6sZdjjKLT9"
      }
    },
    {
      "cell_type": "code",
      "source": [
        "forecast_df.Relative_Humidity"
      ],
      "metadata": {
        "colab": {
          "base_uri": "https://localhost:8080/"
        },
        "id": "ZsPI3UDiKOU0",
        "outputId": "51fef2b3-99f7-488e-8be5-63b8e84482f9"
      },
      "execution_count": 41,
      "outputs": [
        {
          "output_type": "execute_result",
          "data": {
            "text/plain": [
              "0         96.0\n",
              "1         75.0\n",
              "2         75.0\n",
              "3         70.0\n",
              "4         89.0\n",
              "          ... \n",
              "297172    62.0\n",
              "297173    86.0\n",
              "297174    94.0\n",
              "297175    93.0\n",
              "297176    95.0\n",
              "Name: Relative_Humidity, Length: 297177, dtype: float64"
            ]
          },
          "metadata": {},
          "execution_count": 41
        }
      ]
    },
    {
      "cell_type": "markdown",
      "source": [
        "Compter les temperatures"
      ],
      "metadata": {
        "id": "Fx_ZIi7lKf-h"
      }
    },
    {
      "cell_type": "code",
      "source": [
        "forecast_df.Temperature.value_counts()"
      ],
      "metadata": {
        "colab": {
          "base_uri": "https://localhost:8080/"
        },
        "id": "9_m-2qWeK7FV",
        "outputId": "158ce8cd-46e1-45d4-a83d-7ea76b040607"
      },
      "execution_count": 42,
      "outputs": [
        {
          "output_type": "execute_result",
          "data": {
            "text/plain": [
              "20.3    6578\n",
              "20.6    5861\n",
              "20.9    5658\n",
              "21.9    5507\n",
              "20.4    5315\n",
              "        ... \n",
              "33.2     130\n",
              "17.1     130\n",
              "33.6     129\n",
              "32.8     127\n",
              "16.9      79\n",
              "Name: Temperature, Length: 167, dtype: int64"
            ]
          },
          "metadata": {},
          "execution_count": 42
        }
      ]
    },
    {
      "cell_type": "markdown",
      "source": [
        "Creer une copie du dataframe\n"
      ],
      "metadata": {
        "id": "3jnq3NJ8LV-5"
      }
    },
    {
      "cell_type": "code",
      "source": [
        "forecats_df_copy  = forecast_df.copy()\n",
        "forecats_df_copy.info()"
      ],
      "metadata": {
        "colab": {
          "base_uri": "https://localhost:8080/"
        },
        "id": "_ivNnqAQL1O3",
        "outputId": "479f2986-57db-46a6-8435-9591e8cee443"
      },
      "execution_count": 47,
      "outputs": [
        {
          "output_type": "stream",
          "name": "stdout",
          "text": [
            "<class 'pandas.core.frame.DataFrame'>\n",
            "RangeIndex: 297177 entries, 0 to 297176\n",
            "Data columns (total 7 columns):\n",
            " #   Column             Non-Null Count   Dtype  \n",
            "---  ------             --------------   -----  \n",
            " 0   ID                 297177 non-null  object \n",
            " 1   Datetime           297177 non-null  object \n",
            " 2   Sensor1_PM2.5      293563 non-null  float64\n",
            " 3   Sensor2_PM2.5      293563 non-null  float64\n",
            " 4   Temperature        293628 non-null  float64\n",
            " 5   Relative_Humidity  293628 non-null  float64\n",
            " 6   Offset_fault       297177 non-null  int64  \n",
            "dtypes: float64(4), int64(1), object(2)\n",
            "memory usage: 15.9+ MB\n"
          ]
        }
      ]
    },
    {
      "cell_type": "markdown",
      "source": [
        "Supprimer une colonne "
      ],
      "metadata": {
        "id": "-DKYnHIvL_en"
      }
    },
    {
      "cell_type": "code",
      "source": [
        "del forecats_df_copy['ID']"
      ],
      "metadata": {
        "id": "VpgJoc3YMbTc"
      },
      "execution_count": 48,
      "outputs": []
    },
    {
      "cell_type": "code",
      "source": [
        "forecats_df_copy.info()"
      ],
      "metadata": {
        "colab": {
          "base_uri": "https://localhost:8080/"
        },
        "id": "z6eKsh8WMigr",
        "outputId": "a481a72e-3121-4e13-ccff-c5cd8c37772f"
      },
      "execution_count": 49,
      "outputs": [
        {
          "output_type": "stream",
          "name": "stdout",
          "text": [
            "<class 'pandas.core.frame.DataFrame'>\n",
            "RangeIndex: 297177 entries, 0 to 297176\n",
            "Data columns (total 6 columns):\n",
            " #   Column             Non-Null Count   Dtype  \n",
            "---  ------             --------------   -----  \n",
            " 0   Datetime           297177 non-null  object \n",
            " 1   Sensor1_PM2.5      293563 non-null  float64\n",
            " 2   Sensor2_PM2.5      293563 non-null  float64\n",
            " 3   Temperature        293628 non-null  float64\n",
            " 4   Relative_Humidity  293628 non-null  float64\n",
            " 5   Offset_fault       297177 non-null  int64  \n",
            "dtypes: float64(4), int64(1), object(1)\n",
            "memory usage: 13.6+ MB\n"
          ]
        }
      ]
    },
    {
      "cell_type": "markdown",
      "source": [
        "Compter le nombre de type de variable"
      ],
      "metadata": {
        "id": "RQSM1NsJMntH"
      }
    },
    {
      "cell_type": "code",
      "source": [
        "forecast_df.dtypes.value_counts()"
      ],
      "metadata": {
        "colab": {
          "base_uri": "https://localhost:8080/"
        },
        "id": "Ya_G0_sfMvZP",
        "outputId": "558c1df3-057d-4ad6-d486-30f8f96cc8b4"
      },
      "execution_count": 51,
      "outputs": [
        {
          "output_type": "execute_result",
          "data": {
            "text/plain": [
              "float64    4\n",
              "object     2\n",
              "int64      1\n",
              "dtype: int64"
            ]
          },
          "metadata": {},
          "execution_count": 51
        }
      ]
    },
    {
      "cell_type": "markdown",
      "source": [
        "Afficher le graphe de chaque types"
      ],
      "metadata": {
        "id": "OX8P-0-cN1es"
      }
    },
    {
      "cell_type": "code",
      "source": [
        "forecast_df.dtypes.value_counts().plot.pie()"
      ],
      "metadata": {
        "colab": {
          "base_uri": "https://localhost:8080/",
          "height": 265
        },
        "id": "Cg3porhrN5NN",
        "outputId": "817669f6-ad91-4fdd-c59e-f5a21fb0710b"
      },
      "execution_count": 52,
      "outputs": [
        {
          "output_type": "execute_result",
          "data": {
            "text/plain": [
              "<matplotlib.axes._subplots.AxesSubplot at 0x7f187d1b81d0>"
            ]
          },
          "metadata": {},
          "execution_count": 52
        },
        {
          "output_type": "display_data",
          "data": {
            "text/plain": [
              "<Figure size 432x288 with 1 Axes>"
            ],
            "image/png": "[encoded data removed]"
          },
          "metadata": {}
        }
      ]
    },
    {
      "cell_type": "markdown",
      "source": [
        "Compter le nombre d'offset_fault"
      ],
      "metadata": {
        "id": "BtI2MhFEN_hh"
      }
    },
    {
      "cell_type": "code",
      "source": [
        "forecast_df['Offset_fault'].value_counts()"
      ],
      "metadata": {
        "colab": {
          "base_uri": "https://localhost:8080/"
        },
        "id": "E2SGsC8oOuPD",
        "outputId": "7caba82a-3634-4c3b-b05b-d44c6fa8ee8d"
      },
      "execution_count": 54,
      "outputs": [
        {
          "output_type": "execute_result",
          "data": {
            "text/plain": [
              "0    186903\n",
              "1    110274\n",
              "Name: Offset_fault, dtype: int64"
            ]
          },
          "metadata": {},
          "execution_count": 54
        }
      ]
    },
    {
      "cell_type": "markdown",
      "source": [
        "On n'a 186903 de 0 et 110274 de 1"
      ],
      "metadata": {
        "id": "ly4LIzvXO5uR"
      }
    },
    {
      "cell_type": "markdown",
      "source": [
        "Calcul la moyenne des temperatures"
      ],
      "metadata": {
        "id": "qDYU-JieQYBR"
      }
    },
    {
      "cell_type": "code",
      "source": [
        "forecast_df.Temperature.mean()"
      ],
      "metadata": {
        "colab": {
          "base_uri": "https://localhost:8080/"
        },
        "id": "m0w8TcU3Qc1Y",
        "outputId": "782fb9f2-09b3-48cb-a667-1dd5bd8c5e67"
      },
      "execution_count": 55,
      "outputs": [
        {
          "output_type": "execute_result",
          "data": {
            "text/plain": [
              "23.316553598430666"
            ]
          },
          "metadata": {},
          "execution_count": 55
        }
      ]
    },
    {
      "cell_type": "markdown",
      "source": [
        "Afficher les datetime"
      ],
      "metadata": {
        "id": "2564p-WmQhlL"
      }
    },
    {
      "cell_type": "code",
      "source": [
        "forecast_df['Datetime']\n",
        "forecast_df['Datetime'].value_counts()"
      ],
      "metadata": {
        "colab": {
          "base_uri": "https://localhost:8080/"
        },
        "id": "iqntvEsSRBie",
        "outputId": "c3bfe09a-7d25-440a-d0a5-da7aa60cb33d"
      },
      "execution_count": 57,
      "outputs": [
        {
          "output_type": "execute_result",
          "data": {
            "text/plain": [
              "2021-11-26 17:23:00    3\n",
              "2021-11-08 19:16:55    3\n",
              "2021-12-06 02:28:52    3\n",
              "2021-12-13 03:17:11    3\n",
              "2021-11-06 18:29:26    3\n",
              "                      ..\n",
              "2021-12-13 06:20:24    1\n",
              "2021-12-06 14:04:53    1\n",
              "2021-12-27 21:56:32    1\n",
              "2022-01-18 16:56:31    1\n",
              "2021-11-23 06:33:04    1\n",
              "Name: Datetime, Length: 293751, dtype: int64"
            ]
          },
          "metadata": {},
          "execution_count": 57
        }
      ]
    },
    {
      "cell_type": "markdown",
      "source": [
        "Afficher le maximun de ligne"
      ],
      "metadata": {
        "id": "g__8rcASSq6y"
      }
    },
    {
      "cell_type": "markdown",
      "source": [
        "Afficher les valeurs max , min de la temperature"
      ],
      "metadata": {
        "id": "nSmduLFfTz57"
      }
    },
    {
      "cell_type": "code",
      "source": [
        "forecast_df['Temperature'].max()\n"
      ],
      "metadata": {
        "colab": {
          "base_uri": "https://localhost:8080/"
        },
        "id": "bqNh4_giT8OA",
        "outputId": "dbf9b059-0606-4db1-d5a9-5119545400d5"
      },
      "execution_count": 63,
      "outputs": [
        {
          "output_type": "execute_result",
          "data": {
            "text/plain": [
              "34.9"
            ]
          },
          "metadata": {},
          "execution_count": 63
        }
      ]
    },
    {
      "cell_type": "code",
      "source": [
        "forecast_df['Temperature'].min()"
      ],
      "metadata": {
        "colab": {
          "base_uri": "https://localhost:8080/"
        },
        "id": "2EE9dXrqUHWj",
        "outputId": "a5f63d3e-018a-48b8-c0cf-68105df5f2e8"
      },
      "execution_count": 64,
      "outputs": [
        {
          "output_type": "execute_result",
          "data": {
            "text/plain": [
              "16.7"
            ]
          },
          "metadata": {},
          "execution_count": 64
        }
      ]
    },
    {
      "cell_type": "markdown",
      "source": [
        "Les Series : Ce sont des parties de dataframe"
      ],
      "metadata": {
        "id": "E5gsvwssVPBY"
      }
    },
    {
      "cell_type": "code",
      "source": [
        "temperatures = pd.Series(forecast_df['Temperature'])"
      ],
      "metadata": {
        "id": "nrWt34puVVuA"
      },
      "execution_count": 68,
      "outputs": []
    },
    {
      "cell_type": "code",
      "source": [
        "temperatures"
      ],
      "metadata": {
        "colab": {
          "base_uri": "https://localhost:8080/"
        },
        "id": "3qLde8BFV0uD",
        "outputId": "47aba337-a913-4871-cb6d-008a7f107624"
      },
      "execution_count": 69,
      "outputs": [
        {
          "output_type": "execute_result",
          "data": {
            "text/plain": [
              "0         17.4\n",
              "1         25.0\n",
              "2         24.9\n",
              "3         24.9\n",
              "4         20.9\n",
              "          ... \n",
              "297172    28.6\n",
              "297173    21.6\n",
              "297174    20.2\n",
              "297175    20.6\n",
              "297176    17.3\n",
              "Name: Temperature, Length: 297177, dtype: float64"
            ]
          },
          "metadata": {},
          "execution_count": 69
        }
      ]
    },
    {
      "cell_type": "code",
      "source": [
        "humidites = pd.Series(forecast_df['Relative_Humidity'])"
      ],
      "metadata": {
        "id": "W-SV5UkPV8C8"
      },
      "execution_count": 70,
      "outputs": []
    },
    {
      "cell_type": "code",
      "source": [
        "humidites"
      ],
      "metadata": {
        "colab": {
          "base_uri": "https://localhost:8080/"
        },
        "id": "VzoRfcK3WB8o",
        "outputId": "8157f70a-8436-4405-ad65-8fe8c7e36624"
      },
      "execution_count": 71,
      "outputs": [
        {
          "output_type": "execute_result",
          "data": {
            "text/plain": [
              "0         96.0\n",
              "1         75.0\n",
              "2         75.0\n",
              "3         70.0\n",
              "4         89.0\n",
              "          ... \n",
              "297172    62.0\n",
              "297173    86.0\n",
              "297174    94.0\n",
              "297175    93.0\n",
              "297176    95.0\n",
              "Name: Relative_Humidity, Length: 297177, dtype: float64"
            ]
          },
          "metadata": {},
          "execution_count": 71
        }
      ]
    },
    {
      "cell_type": "markdown",
      "source": [
        "Tracer des figures avec matplotlib"
      ],
      "metadata": {
        "id": "v-PKkeCAS4aK"
      }
    },
    {
      "cell_type": "markdown",
      "source": [
        "Histogramme des temperatures"
      ],
      "metadata": {
        "id": "WVLpGAXpUSUR"
      }
    },
    {
      "cell_type": "code",
      "source": [
        "forecast_df['Temperature'].plot(kind = 'hist')"
      ],
      "metadata": {
        "colab": {
          "base_uri": "https://localhost:8080/",
          "height": 282
        },
        "id": "tzQzUo3-Uouh",
        "outputId": "74d6cb57-df24-4f0a-fc08-c7703acda72a"
      },
      "execution_count": 66,
      "outputs": [
        {
          "output_type": "execute_result",
          "data": {
            "text/plain": [
              "<matplotlib.axes._subplots.AxesSubplot at 0x7f186ed58a90>"
            ]
          },
          "metadata": {},
          "execution_count": 66
        },
        {
          "output_type": "display_data",
          "data": {
            "text/plain": [
              "<Figure size 432x288 with 1 Axes>"
            ],
            "image/png": "[encoded data removed]"
          },
          "metadata": {
            "needs_background": "light"
          }
        }
      ]
    },
    {
      "cell_type": "code",
      "source": [
        "plt.plot(temperatures[:5],humidites[:5])\n",
        "plt.title('Temperature en fonction de humidité')\n",
        "plt.xlabel('Temperature ')\n",
        "plt.ylabel('Humidité')\n",
        "plt.show()\n",
        "# .plot(kind='bar')"
      ],
      "metadata": {
        "colab": {
          "base_uri": "https://localhost:8080/",
          "height": 295
        },
        "id": "HeHWHW9VV5ca",
        "outputId": "afeaee00-942b-4aa9-a921-8f8de45a5671"
      },
      "execution_count": 74,
      "outputs": [
        {
          "output_type": "display_data",
          "data": {
            "text/plain": [
              "<Figure size 432x288 with 1 Axes>"
            ],
            "image/png": "[encoded data removed]"
          },
          "metadata": {
            "needs_background": "light"
          }
        }
      ]
    },
    {
      "cell_type": "code",
      "source": [
        "forecast_df['Offset_fault'].value_counts().plot(kind='bar')"
      ],
      "metadata": {
        "colab": {
          "base_uri": "https://localhost:8080/",
          "height": 279
        },
        "id": "j3Jl9AnUXklj",
        "outputId": "0629f1ee-7974-4283-ce29-6a0b2cbedf95"
      },
      "execution_count": 82,
      "outputs": [
        {
          "output_type": "execute_result",
          "data": {
            "text/plain": [
              "<matplotlib.axes._subplots.AxesSubplot at 0x7f186e51cb10>"
            ]
          },
          "metadata": {},
          "execution_count": 82
        },
        {
          "output_type": "display_data",
          "data": {
            "text/plain": [
              "<Figure size 432x288 with 1 Axes>"
            ],
            "image/png": "[encoded data removed]"
          },
          "metadata": {
            "needs_background": "light"
          }
        }
      ]
    },
    {
      "cell_type": "code",
      "source": [
        "forecast_df['Offset_fault'].value_counts().plot(kind='pie')"
      ],
      "metadata": {
        "colab": {
          "base_uri": "https://localhost:8080/",
          "height": 265
        },
        "id": "YHHimwefYCGY",
        "outputId": "755474cd-0311-4df4-a31a-7ec105839c42"
      },
      "execution_count": 83,
      "outputs": [
        {
          "output_type": "execute_result",
          "data": {
            "text/plain": [
              "<matplotlib.axes._subplots.AxesSubplot at 0x7f1844c0d1d0>"
            ]
          },
          "metadata": {},
          "execution_count": 83
        },
        {
          "output_type": "display_data",
          "data": {
            "text/plain": [
              "<Figure size 432x288 with 1 Axes>"
            ],
            "image/png": "[encoded data removed]"
          },
          "metadata": {}
        }
      ]
    },
    {
      "cell_type": "markdown",
      "source": [
        "SNS"
      ],
      "metadata": {
        "id": "1zB1bR3rYMlU"
      }
    },
    {
      "cell_type": "code",
      "source": [
        "sns.boxplot(data=forecast_df, x=\"Relative_Humidity\")"
      ],
      "metadata": {
        "colab": {
          "base_uri": "https://localhost:8080/",
          "height": 297
        },
        "id": "UrdI86LBYNkv",
        "outputId": "81cc8b73-8c7f-401b-fd7b-37ef966a6b3a"
      },
      "execution_count": 84,
      "outputs": [
        {
          "output_type": "execute_result",
          "data": {
            "text/plain": [
              "<matplotlib.axes._subplots.AxesSubplot at 0x7f1842b6b410>"
            ]
          },
          "metadata": {},
          "execution_count": 84
        },
        {
          "output_type": "display_data",
          "data": {
            "text/plain": [
              "<Figure size 432x288 with 1 Axes>"
            ],
            "image/png": "[encoded data removed]"
          },
          "metadata": {
            "needs_background": "light"
          }
        }
      ]
    },
    {
      "cell_type": "code",
      "source": [
        "sns.heatmap(forecast_df.corr(), annot=True, cmap='YlGnBu')"
      ],
      "metadata": {
        "colab": {
          "base_uri": "https://localhost:8080/",
          "height": 367
        },
        "id": "VVCh2kVTYfQE",
        "outputId": "2c8dcbfa-4915-456d-d068-e731d95a2ac7"
      },
      "execution_count": 85,
      "outputs": [
        {
          "output_type": "execute_result",
          "data": {
            "text/plain": [
              "<matplotlib.axes._subplots.AxesSubplot at 0x7f1840f34850>"
            ]
          },
          "metadata": {},
          "execution_count": 85
        },
        {
          "output_type": "display_data",
          "data": {
            "text/plain": [
              "<Figure size 432x288 with 2 Axes>"
            ],
            "image/png": "[encoded data removed]"
          },
          "metadata": {
            "needs_background": "light"
          }
        }
      ]
    }
  ]
}